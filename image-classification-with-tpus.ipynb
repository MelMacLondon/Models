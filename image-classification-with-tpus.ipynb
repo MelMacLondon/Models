{
 "cells": [
  {
   "cell_type": "markdown",
   "id": "e93a5ebd",
   "metadata": {
    "papermill": {
     "duration": 0.006166,
     "end_time": "2024-11-02T07:19:52.522312",
     "exception": false,
     "start_time": "2024-11-02T07:19:52.516146",
     "status": "completed"
    },
    "tags": []
   },
   "source": [
    "# Using Tensor Flow TPU for Image Classification\n",
    "\n",
    "A Simple TF 2.1 notebook\n",
    "\n",
    "\n",
    "This is based entirely off of Martin Gorner's excellent starter notebook, and is intended solely as a simple, shorter introduction to the operations being performed there."
   ]
  },
  {
   "cell_type": "markdown",
   "id": "788f20c0",
   "metadata": {
    "papermill": {
     "duration": 0.004718,
     "end_time": "2024-11-02T07:19:52.532506",
     "exception": false,
     "start_time": "2024-11-02T07:19:52.527788",
     "status": "completed"
    },
    "tags": []
   },
   "source": [
    "\n",
    "**Cloned from https://www.kaggle.com/philculliton**\n",
    "\n",
    "https://www.youtube.com/watch?v=1pdwRQ1DQfY\n"
   ]
  },
  {
   "cell_type": "code",
   "execution_count": 1,
   "id": "84d18e86",
   "metadata": {
    "_cell_guid": "b1076dfc-b9ad-4769-8c92-a6c4dae69d19",
    "_uuid": "8f2839f25d086af736a60e9eeb907d3b93b6e0e5",
    "execution": {
     "iopub.execute_input": "2024-11-02T07:19:52.544283Z",
     "iopub.status.busy": "2024-11-02T07:19:52.543879Z",
     "iopub.status.idle": "2024-11-02T07:19:56.898681Z",
     "shell.execute_reply": "2024-11-02T07:19:56.897535Z"
    },
    "papermill": {
     "duration": 4.363975,
     "end_time": "2024-11-02T07:19:56.901460",
     "exception": false,
     "start_time": "2024-11-02T07:19:52.537485",
     "status": "completed"
    },
    "tags": []
   },
   "outputs": [
    {
     "name": "stdout",
     "output_type": "stream",
     "text": [
      "Tensorflow version 2.6.4\n"
     ]
    }
   ],
   "source": [
    "import tensorflow as tf\n",
    "from kaggle_datasets import KaggleDatasets\n",
    "import numpy as np\n",
    "\n",
    "print(\"Tensorflow version \" + tf.__version__)"
   ]
  },
  {
   "cell_type": "markdown",
   "id": "0fa727e0",
   "metadata": {
    "papermill": {
     "duration": 0.00506,
     "end_time": "2024-11-02T07:19:56.911841",
     "exception": false,
     "start_time": "2024-11-02T07:19:56.906781",
     "status": "completed"
    },
    "tags": []
   },
   "source": [
    "# Detect my accelerator"
   ]
  },
  {
   "cell_type": "code",
   "execution_count": 2,
   "id": "557fe2e4",
   "metadata": {
    "execution": {
     "iopub.execute_input": "2024-11-02T07:19:56.924801Z",
     "iopub.status.busy": "2024-11-02T07:19:56.923616Z",
     "iopub.status.idle": "2024-11-02T07:19:56.938230Z",
     "shell.execute_reply": "2024-11-02T07:19:56.937171Z"
    },
    "papermill": {
     "duration": 0.023294,
     "end_time": "2024-11-02T07:19:56.940382",
     "exception": false,
     "start_time": "2024-11-02T07:19:56.917088",
     "status": "completed"
    },
    "tags": []
   },
   "outputs": [
    {
     "name": "stdout",
     "output_type": "stream",
     "text": [
      "REPLICAS:  1\n"
     ]
    }
   ],
   "source": [
    "# Detect hardware, return appropriate distribution strategy\n",
    "try:\n",
    "    tpu = tf.distribute.cluster_resolver.TPUClusterResolver()  # TPU detection. No parameters necessary if TPU_NAME environment variable is set. On Kaggle this is always the case.\n",
    "    print('Running on TPU ', tpu.master())\n",
    "except ValueError:\n",
    "    tpu = None\n",
    "\n",
    "if tpu:\n",
    "    tf.config.experimental_connect_to_cluster(tpu)\n",
    "    tf.tpu.experimental.initialize_tpu_system(tpu)\n",
    "    strategy = tf.distribute.experimental.TPUStrategy(tpu)\n",
    "else:\n",
    "    strategy = tf.distribute.get_strategy() # default distribution strategy in Tensorflow. Works on CPU and single GPU.\n",
    "\n",
    "print(\"REPLICAS: \", strategy.num_replicas_in_sync)"
   ]
  },
  {
   "cell_type": "markdown",
   "id": "4aa6d3c9",
   "metadata": {
    "papermill": {
     "duration": 0.005125,
     "end_time": "2024-11-02T07:19:56.950675",
     "exception": false,
     "start_time": "2024-11-02T07:19:56.945550",
     "status": "completed"
    },
    "tags": []
   },
   "source": [
    "# Get my data path"
   ]
  },
  {
   "cell_type": "code",
   "execution_count": 3,
   "id": "faeb8ba8",
   "metadata": {
    "execution": {
     "iopub.execute_input": "2024-11-02T07:19:56.962918Z",
     "iopub.status.busy": "2024-11-02T07:19:56.962186Z",
     "iopub.status.idle": "2024-11-02T07:19:57.294821Z",
     "shell.execute_reply": "2024-11-02T07:19:57.293868Z"
    },
    "papermill": {
     "duration": 0.341464,
     "end_time": "2024-11-02T07:19:57.297425",
     "exception": false,
     "start_time": "2024-11-02T07:19:56.955961",
     "status": "completed"
    },
    "tags": []
   },
   "outputs": [],
   "source": [
    "GCS_DS_PATH = KaggleDatasets().get_gcs_path() # you can list the bucket with \"!gsutil ls $GCS_DS_PATH\""
   ]
  },
  {
   "cell_type": "markdown",
   "id": "11d1786e",
   "metadata": {
    "papermill": {
     "duration": 0.004812,
     "end_time": "2024-11-02T07:19:57.307780",
     "exception": false,
     "start_time": "2024-11-02T07:19:57.302968",
     "status": "completed"
    },
    "tags": []
   },
   "source": [
    "# Set some parameters - Model Parameters"
   ]
  },
  {
   "cell_type": "code",
   "execution_count": 4,
   "id": "bb353ff3",
   "metadata": {
    "execution": {
     "iopub.execute_input": "2024-11-02T07:19:57.319537Z",
     "iopub.status.busy": "2024-11-02T07:19:57.319137Z",
     "iopub.status.idle": "2024-11-02T07:19:57.325021Z",
     "shell.execute_reply": "2024-11-02T07:19:57.324043Z"
    },
    "papermill": {
     "duration": 0.014305,
     "end_time": "2024-11-02T07:19:57.327125",
     "exception": false,
     "start_time": "2024-11-02T07:19:57.312820",
     "status": "completed"
    },
    "tags": []
   },
   "outputs": [],
   "source": [
    "IMAGE_SIZE = [192, 192] # at this size, a GPU will run out of memory. Use the TPU\n",
    "EPOCHS = 5\n",
    "BATCH_SIZE = 16 * strategy.num_replicas_in_sync\n",
    "\n",
    "NUM_TRAINING_IMAGES = 12753\n",
    "NUM_TEST_IMAGES = 7382\n",
    "STEPS_PER_EPOCH = NUM_TRAINING_IMAGES // BATCH_SIZE\n",
    "AUTO = tf.data.experimental.AUTOTUNE"
   ]
  },
  {
   "cell_type": "markdown",
   "id": "71072391",
   "metadata": {
    "papermill": {
     "duration": 0.004829,
     "end_time": "2024-11-02T07:19:57.337043",
     "exception": false,
     "start_time": "2024-11-02T07:19:57.332214",
     "status": "completed"
    },
    "tags": []
   },
   "source": [
    "# Load my data\n",
    "\n",
    "This data is loaded from Kaggle and automatically sharded to maximize parallelization."
   ]
  },
  {
   "cell_type": "code",
   "execution_count": 5,
   "id": "2f0eca59",
   "metadata": {
    "execution": {
     "iopub.execute_input": "2024-11-02T07:19:57.349706Z",
     "iopub.status.busy": "2024-11-02T07:19:57.349320Z",
     "iopub.status.idle": "2024-11-02T07:20:00.978851Z",
     "shell.execute_reply": "2024-11-02T07:20:00.977804Z"
    },
    "papermill": {
     "duration": 3.63921,
     "end_time": "2024-11-02T07:20:00.981735",
     "exception": false,
     "start_time": "2024-11-02T07:19:57.342525",
     "status": "completed"
    },
    "tags": []
   },
   "outputs": [],
   "source": [
    "def decode_image(image_data):\n",
    "    image = tf.image.decode_jpeg(image_data, channels=3)\n",
    "    image = tf.cast(image, tf.float32) / 255.0  # convert image to floats in [0, 1] range\n",
    "    image = tf.reshape(image, [*IMAGE_SIZE, 3]) # explicit size needed for TPU\n",
    "    return image\n",
    "\n",
    "def read_labeled_tfrecord(example):\n",
    "    LABELED_TFREC_FORMAT = {\n",
    "        \"image\": tf.io.FixedLenFeature([], tf.string), # tf.string means bytestring\n",
    "        \"class\": tf.io.FixedLenFeature([], tf.int64),  # shape [] means single element\n",
    "    }\n",
    "    example = tf.io.parse_single_example(example, LABELED_TFREC_FORMAT)\n",
    "    image = decode_image(example['image'])\n",
    "    label = tf.cast(example['class'], tf.int32)\n",
    "    return image, label # returns a dataset of (image, label) pairs\n",
    "\n",
    "def read_unlabeled_tfrecord(example):\n",
    "    UNLABELED_TFREC_FORMAT = {\n",
    "        \"image\": tf.io.FixedLenFeature([], tf.string), # tf.string means bytestring\n",
    "        \"id\": tf.io.FixedLenFeature([], tf.string),  # shape [] means single element\n",
    "        # class is missing, this competitions's challenge is to predict flower classes for the test dataset\n",
    "    }\n",
    "    example = tf.io.parse_single_example(example, UNLABELED_TFREC_FORMAT)\n",
    "    image = decode_image(example['image'])\n",
    "    idnum = example['id']\n",
    "    return image, idnum # returns a dataset of image(s)\n",
    "\n",
    "def load_dataset(filenames, labeled=True, ordered=False):\n",
    "    # Read from TFRecords. For optimal performance, reading from multiple files at once and\n",
    "    # disregarding data order. Order does not matter since we will be shuffling the data anyway.\n",
    "\n",
    "    ignore_order = tf.data.Options()\n",
    "    if not ordered:\n",
    "        ignore_order.experimental_deterministic = False # disable order, increase speed\n",
    "\n",
    "    dataset = tf.data.TFRecordDataset(filenames, num_parallel_reads=AUTO) # automatically interleaves reads from multiple files\n",
    "    dataset = dataset.with_options(ignore_order) # uses data as soon as it streams in, rather than in its original order\n",
    "    dataset = dataset.map(read_labeled_tfrecord if labeled else read_unlabeled_tfrecord, num_parallel_calls=AUTO)\n",
    "    # returns a dataset of (image, label) pairs if labeled=True or (image, id) pairs if labeled=False\n",
    "    return dataset\n",
    "\n",
    "def get_training_dataset():\n",
    "    dataset = load_dataset(tf.io.gfile.glob(GCS_DS_PATH + '/tfrecords-jpeg-192x192/train/*.tfrec'), labeled=True)\n",
    "    dataset = dataset.repeat() # the training dataset must repeat for several epochs\n",
    "    dataset = dataset.shuffle(2048)\n",
    "    dataset = dataset.batch(BATCH_SIZE)\n",
    "    dataset = dataset.prefetch(AUTO) # prefetch next batch while training (autotune prefetch buffer size)\n",
    "    return dataset\n",
    "\n",
    "def get_validation_dataset():\n",
    "    dataset = load_dataset(tf.io.gfile.glob(GCS_DS_PATH + '/tfrecords-jpeg-192x192/val/*.tfrec'), labeled=True, ordered=False)\n",
    "    dataset = dataset.batch(BATCH_SIZE)\n",
    "    dataset = dataset.cache()\n",
    "    dataset = dataset.prefetch(AUTO) # prefetch next batch while training (autotune prefetch buffer size)\n",
    "    return dataset\n",
    "\n",
    "def get_test_dataset(ordered=False):\n",
    "    dataset = load_dataset(tf.io.gfile.glob(GCS_DS_PATH + '/tfrecords-jpeg-192x192/test/*.tfrec'), labeled=False, ordered=ordered)\n",
    "    dataset = dataset.batch(BATCH_SIZE)\n",
    "    dataset = dataset.prefetch(AUTO) # prefetch next batch while training (autotune prefetch buffer size)\n",
    "    return dataset\n",
    "\n",
    "training_dataset = get_training_dataset()\n",
    "validation_dataset = get_validation_dataset()"
   ]
  },
  {
   "cell_type": "markdown",
   "id": "45e8dc39",
   "metadata": {
    "papermill": {
     "duration": 0.004981,
     "end_time": "2024-11-02T07:20:00.992176",
     "exception": false,
     "start_time": "2024-11-02T07:20:00.987195",
     "status": "completed"
    },
    "tags": []
   },
   "source": [
    "# Build a model on TPU (or GPU, or CPU...) with Tensorflow 2.1!"
   ]
  },
  {
   "cell_type": "markdown",
   "id": "61eff2f6",
   "metadata": {
    "papermill": {
     "duration": 0.004719,
     "end_time": "2024-11-02T07:20:01.002335",
     "exception": false,
     "start_time": "2024-11-02T07:20:00.997616",
     "status": "completed"
    },
    "tags": []
   },
   "source": [
    "Make sure we are \"inside strategy scope\" - critical for TPU usage\n",
    "- loading a pre-trained model\n",
    "- add layers\n",
    "- fit model using training dataset\n"
   ]
  },
  {
   "cell_type": "code",
   "execution_count": 6,
   "id": "14864c89",
   "metadata": {
    "execution": {
     "iopub.execute_input": "2024-11-02T07:20:01.014194Z",
     "iopub.status.busy": "2024-11-02T07:20:01.013296Z",
     "iopub.status.idle": "2024-11-02T07:24:33.783376Z",
     "shell.execute_reply": "2024-11-02T07:24:33.782423Z"
    },
    "papermill": {
     "duration": 272.77875,
     "end_time": "2024-11-02T07:24:33.785908",
     "exception": false,
     "start_time": "2024-11-02T07:20:01.007158",
     "status": "completed"
    },
    "tags": []
   },
   "outputs": [
    {
     "name": "stdout",
     "output_type": "stream",
     "text": [
      "Downloading data from https://storage.googleapis.com/tensorflow/keras-applications/vgg16/vgg16_weights_tf_dim_ordering_tf_kernels_notop.h5\n",
      "58892288/58889256 [==============================] - 0s 0us/step\n",
      "58900480/58889256 [==============================] - 0s 0us/step\n",
      "Epoch 1/5\n",
      "797/797 [==============================] - 62s 63ms/step - loss: 3.5377 - sparse_categorical_accuracy: 0.2084 - val_loss: 3.0519 - val_sparse_categorical_accuracy: 0.3120\n",
      "Epoch 2/5\n",
      "797/797 [==============================] - 53s 66ms/step - loss: 2.7578 - sparse_categorical_accuracy: 0.3695 - val_loss: 2.5831 - val_sparse_categorical_accuracy: 0.4135\n",
      "Epoch 3/5\n",
      "797/797 [==============================] - 52s 65ms/step - loss: 2.3731 - sparse_categorical_accuracy: 0.4540 - val_loss: 2.3068 - val_sparse_categorical_accuracy: 0.4693\n",
      "Epoch 4/5\n",
      "797/797 [==============================] - 52s 65ms/step - loss: 2.1178 - sparse_categorical_accuracy: 0.5122 - val_loss: 2.1173 - val_sparse_categorical_accuracy: 0.5119\n",
      "Epoch 5/5\n",
      "797/797 [==============================] - 52s 65ms/step - loss: 1.9413 - sparse_categorical_accuracy: 0.5485 - val_loss: 1.9949 - val_sparse_categorical_accuracy: 0.5339\n"
     ]
    }
   ],
   "source": [
    "with strategy.scope():    \n",
    "    pretrained_model = tf.keras.applications.VGG16(weights='imagenet', include_top=False ,input_shape=[*IMAGE_SIZE, 3])\n",
    "    pretrained_model.trainable = False # tramsfer learning\n",
    "    \n",
    "    model = tf.keras.Sequential([\n",
    "        pretrained_model,\n",
    "        tf.keras.layers.GlobalAveragePooling2D(),\n",
    "        tf.keras.layers.Dense(104, activation='softmax')\n",
    "    ])\n",
    "        \n",
    "model.compile(\n",
    "    optimizer='adam',\n",
    "    loss = 'sparse_categorical_crossentropy',\n",
    "    metrics=['sparse_categorical_accuracy']\n",
    ")\n",
    "\n",
    "historical = model.fit(training_dataset, \n",
    "          steps_per_epoch=STEPS_PER_EPOCH, \n",
    "          epochs=EPOCHS, \n",
    "          validation_data=validation_dataset)"
   ]
  },
  {
   "cell_type": "markdown",
   "id": "70d48785",
   "metadata": {
    "papermill": {
     "duration": 0.22573,
     "end_time": "2024-11-02T07:24:34.229053",
     "exception": false,
     "start_time": "2024-11-02T07:24:34.003323",
     "status": "completed"
    },
    "tags": []
   },
   "source": [
    "# Compute your predictions on the test set!\n",
    "\n",
    "This will create a file that can be submitted to the competition."
   ]
  },
  {
   "cell_type": "code",
   "execution_count": 7,
   "id": "231d4afa",
   "metadata": {
    "execution": {
     "iopub.execute_input": "2024-11-02T07:24:34.755472Z",
     "iopub.status.busy": "2024-11-02T07:24:34.755062Z",
     "iopub.status.idle": "2024-11-02T07:25:02.944932Z",
     "shell.execute_reply": "2024-11-02T07:25:02.943837Z"
    },
    "papermill": {
     "duration": 28.489559,
     "end_time": "2024-11-02T07:25:02.947582",
     "exception": false,
     "start_time": "2024-11-02T07:24:34.458023",
     "status": "completed"
    },
    "tags": []
   },
   "outputs": [
    {
     "name": "stdout",
     "output_type": "stream",
     "text": [
      "Computing predictions...\n",
      "[ 67  28  82 ... 103  94  62]\n",
      "Generating submission.csv file...\n"
     ]
    }
   ],
   "source": [
    "test_ds = get_test_dataset(ordered=True) # since we are splitting the dataset and iterating separately on images and ids, order matters.\n",
    "\n",
    "print('Computing predictions...')\n",
    "test_images_ds = test_ds.map(lambda image, idnum: image)\n",
    "probabilities = model.predict(test_images_ds)\n",
    "predictions = np.argmax(probabilities, axis=-1)\n",
    "print(predictions)\n",
    "\n",
    "print('Generating submission.csv file...')\n",
    "test_ids_ds = test_ds.map(lambda image, idnum: idnum).unbatch()\n",
    "test_ids = next(iter(test_ids_ds.batch(NUM_TEST_IMAGES))).numpy().astype('U') # all in one batch\n",
    "np.savetxt('submission.csv', np.rec.fromarrays([test_ids, predictions]), fmt=['%s', '%d'], delimiter=',', header='id,label', comments='')"
   ]
  },
  {
   "cell_type": "code",
   "execution_count": 8,
   "id": "044facb9",
   "metadata": {
    "execution": {
     "iopub.execute_input": "2024-11-02T07:25:03.419289Z",
     "iopub.status.busy": "2024-11-02T07:25:03.418917Z",
     "iopub.status.idle": "2024-11-02T07:25:06.519964Z",
     "shell.execute_reply": "2024-11-02T07:25:06.518872Z"
    },
    "papermill": {
     "duration": 3.356771,
     "end_time": "2024-11-02T07:25:06.522925",
     "exception": false,
     "start_time": "2024-11-02T07:25:03.166154",
     "status": "completed"
    },
    "tags": []
   },
   "outputs": [],
   "source": [
    "model.save(\"model.pkl\")"
   ]
  }
 ],
 "metadata": {
  "kaggle": {
   "accelerator": "nvidiaTeslaT4",
   "dataSources": [
    {
     "databundleVersionId": 968043,
     "sourceId": 18278,
     "sourceType": "competition"
    }
   ],
   "dockerImageVersionId": 30299,
   "isGpuEnabled": true,
   "isInternetEnabled": true,
   "language": "python",
   "sourceType": "notebook"
  },
  "kernelspec": {
   "display_name": "Python 3",
   "language": "python",
   "name": "python3"
  },
  "language_info": {
   "codemirror_mode": {
    "name": "ipython",
    "version": 3
   },
   "file_extension": ".py",
   "mimetype": "text/x-python",
   "name": "python",
   "nbconvert_exporter": "python",
   "pygments_lexer": "ipython3",
   "version": "3.7.12"
  },
  "papermill": {
   "default_parameters": {},
   "duration": 327.642605,
   "end_time": "2024-11-02T07:25:10.743211",
   "environment_variables": {},
   "exception": null,
   "input_path": "__notebook__.ipynb",
   "output_path": "__notebook__.ipynb",
   "parameters": {},
   "start_time": "2024-11-02T07:19:43.100606",
   "version": "2.3.4"
  }
 },
 "nbformat": 4,
 "nbformat_minor": 5
}
